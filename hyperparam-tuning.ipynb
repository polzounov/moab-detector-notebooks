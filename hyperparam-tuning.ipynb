{
 "cells": [
  {
   "cell_type": "code",
   "execution_count": null,
   "id": "assumed-bottom",
   "metadata": {
    "tags": []
   },
   "outputs": [],
   "source": [
    "import os\n",
    "import cv2\n",
    "import pathlib\n",
    "import numpy as np\n",
    "import matplotlib.pyplot as plt\n",
    "import matplotlib.image as mpimg\n",
    "\n",
    "%matplotlib inline"
   ]
  },
  {
   "cell_type": "code",
   "execution_count": null,
   "id": "sought-wilderness",
   "metadata": {
    "jupyter": {
     "source_hidden": true
    },
    "tags": []
   },
   "outputs": [],
   "source": [
    "# %load_ext lab_black\n",
    "%load_ext Cython"
   ]
  },
  {
   "cell_type": "code",
   "execution_count": null,
   "id": "modern-swedish",
   "metadata": {
    "jupyter": {
     "source_hidden": true
    },
    "tags": []
   },
   "outputs": [],
   "source": [
    "import pyximport\n",
    "\n",
    "pyximport.install()"
   ]
  },
  {
   "cell_type": "markdown",
   "id": "isolated-arizona",
   "metadata": {},
   "source": [
    "### Hue masking (Cython code)"
   ]
  },
  {
   "cell_type": "code",
   "execution_count": null,
   "id": "documentary-advocate",
   "metadata": {
    "jupyter": {
     "source_hidden": true
    },
    "tags": []
   },
   "outputs": [],
   "source": [
    "%%cython\n",
    "# %%cython -a\n",
    "\n",
    "import math\n",
    "import cython\n",
    "\n",
    "cdef float _bandpass_lookup[256]\n",
    "cdef float _last_sigma = 0.0\n",
    "cdef float _last_gain = 0.0\n",
    "cdef unsigned char _last_center = 0\n",
    "\n",
    "@cython.boundscheck(False)\n",
    "@cython.wraparound(False)\n",
    "cdef _update_bandpass_lookup(unsigned char center, float sigma, float gain):\n",
    "    global _bandpass_lookup\n",
    "    global _last_center\n",
    "    global _last_gain\n",
    "    global _last_sigma\n",
    "    # cdef float h\n",
    "\n",
    "    _last_center = center\n",
    "    _last_sigma = sigma\n",
    "    _last_gain = gain\n",
    "\n",
    "    mu = 0.5\n",
    "    for n in range(256):\n",
    "        h = n / 255.0\n",
    "\n",
    "        # rotate the hue phase so that `center` is at 0.5\n",
    "        h = h + (0.5 - (center / 255.0))\n",
    "        if (h > 1.0):\n",
    "            h = h - 1.0\n",
    "        if (h < 0.0):\n",
    "            h = h + 1.0\n",
    "\n",
    "        # gaussian bandpass filter\n",
    "        f = math.exp(-( (h - mu)**2 / ( 2.0 * sigma**2 ) ) )\n",
    "\n",
    "        # pre-gain around center\n",
    "        f = f * gain\n",
    "        if f > 1.0:\n",
    "            f = 1.0\n",
    "\n",
    "        _bandpass_lookup[n] = f\n",
    "\n",
    "\n",
    "@cython.boundscheck(False)\n",
    "@cython.wraparound(False)\n",
    "# hue_mask(img_hsv, hue / 2, 0.05, 12.0, 4.0)\n",
    "def hue_mask(unsigned char [:, :, :] image, unsigned char center, float sigma, float gain, float mask_gain):\n",
    "    global _bandpass_lookup\n",
    "\n",
    "    # set the variable extension types\n",
    "    cdef int x, y, n, width, height\n",
    "    cdef float h, s, v, mu, f\n",
    "    cdef unsigned char mask, ih\n",
    "\n",
    "    # grab the image dimensions\n",
    "    height = image.shape[0]\n",
    "    width = image.shape[1]\n",
    "\n",
    "    # generate a lookup table for center, sigma & gain\n",
    "    if (center != _last_center or sigma != _last_sigma or gain != _last_gain):\n",
    "        _update_bandpass_lookup(center, sigma, gain)\n",
    "\n",
    "    for y in range(0, height):\n",
    "        for x in range(0, width):\n",
    "            # pull each component out as a float [0..1]\n",
    "            ih = image[y, x, 0]\n",
    "            s = image[y, x, 1] / 255.0\n",
    "            v = image[y, x, 2] / 255.0\n",
    "\n",
    "            # map from [0..255] -> [0..1] through lookup table\n",
    "            # this applies the bandpass filter on hue\n",
    "            h = _bandpass_lookup[ih]\n",
    "\n",
    "            # mask the hue with sat, val and apply another gain filter\n",
    "            f = (h * s * v) * mask_gain\n",
    "            if f > 1.0:\n",
    "                f = 1.0\n",
    "\n",
    "            # covert back to char space\n",
    "            mask = <unsigned char>(f * 255)\n",
    "            image[y, x, 0] = mask\n",
    "            image[y, x, 1] = mask\n",
    "            image[y, x, 2] = mask\n",
    "\n",
    "    # return the thresholded image\n",
    "    return image"
   ]
  },
  {
   "cell_type": "markdown",
   "id": "frank-breathing",
   "metadata": {},
   "source": [
    "### Get the dataset files from folder"
   ]
  },
  {
   "cell_type": "code",
   "execution_count": null,
   "id": "laughing-chuck",
   "metadata": {
    "jupyter": {
     "source_hidden": true
    },
    "tags": []
   },
   "outputs": [],
   "source": [
    "dataset_files = {}\n",
    "\n",
    "\n",
    "for root, dirs, files in os.walk(pathlib.Path(\"dataset/\")):\n",
    "    name = pathlib.Path(root).name\n",
    "    if name:\n",
    "        dataset_files[name] = [\n",
    "            str(pathlib.Path(root) / pathlib.Path(f))\n",
    "            for f in files\n",
    "            if f.find(\".jpg\") != -1\n",
    "        ]\n"
   ]
  },
  {
   "cell_type": "markdown",
   "id": "afraid-carroll",
   "metadata": {},
   "source": [
    "### Define colors and matching hues"
   ]
  },
  {
   "cell_type": "code",
   "execution_count": null,
   "id": "plain-venture",
   "metadata": {
    "jupyter": {
     "source_hidden": true
    },
    "tags": []
   },
   "outputs": [],
   "source": [
    "colors = (\n",
    "    \"orange\",\n",
    "    \"yellow\",\n",
    "    \"green\",\n",
    "    \"blue\",\n",
    "    \"pink\",\n",
    "    \"purple\",\n",
    "    \"no-ball\",\n",
    "    #'glow-in-the-dark',\n",
    ")\n",
    "hues = {\n",
    "    \"orange\": 55,\n",
    "    \"yellow\": 65,\n",
    "    \"green\": 125,\n",
    "    \"blue\": 200,\n",
    "    \"pink\": 325,\n",
    "    \"purple\": 300,\n",
    "    \"no-ball\": 55,\n",
    "    \"glow-in-the-dark\": 125,\n",
    "}"
   ]
  },
  {
   "cell_type": "markdown",
   "id": "regulation-fishing",
   "metadata": {},
   "source": [
    "### Display (helper function for images)"
   ]
  },
  {
   "cell_type": "code",
   "execution_count": null,
   "id": "tired-insured",
   "metadata": {
    "jupyter": {
     "source_hidden": true
    },
    "tags": []
   },
   "outputs": [],
   "source": [
    "def display(im, show=True, text=False):\n",
    "    \"\"\"Display a gray image or BGR image with maplotlib (which usually takes RGB).\"\"\"\n",
    "    sh = im.shape\n",
    "    if len(sh) == 3 and sh[2] != 1:\n",
    "        plt.imshow(im[:, :, ::-1])\n",
    "    else:\n",
    "        plt.imshow(im, cmap=\"gray\", vmin=0, vmax=255)\n",
    "    \n",
    "    if text:\n",
    "        plt.text(10, 20, text, color=\"r\", fontsize=\"x-large\")\n",
    "        \n",
    "    if show:\n",
    "        plt.show()"
   ]
  },
  {
   "cell_type": "markdown",
   "id": "modular-marketing",
   "metadata": {
    "tags": []
   },
   "source": [
    "### Mask circle (Cython)"
   ]
  },
  {
   "cell_type": "code",
   "execution_count": null,
   "id": "medium-campus",
   "metadata": {
    "jupyter": {
     "source_hidden": true
    },
    "tags": []
   },
   "outputs": [],
   "source": [
    "%%cython\n",
    "\n",
    "import math\n",
    "import cython\n",
    "# cimport math\n",
    "\n",
    "@cython.boundscheck(False)\n",
    "@cython.wraparound(False)\n",
    "cdef _mask_circle(unsigned char [:, :, :] image, int center_x, int center_y, int radius, int mask_shade):\n",
    "    # set the variable extension types\n",
    "    cdef int x, y, dist, square_dist\n",
    "\n",
    "    # grab the image dimensions\n",
    "    height = image.shape[0]\n",
    "    width = image.shape[1]\n",
    "\n",
    "    center_x = width / 2\n",
    "    center_y = height / 2\n",
    "\n",
    "    for y in range(0, height):\n",
    "        for x in range(0, width):\n",
    "            square_dist = (x - center_x)**2 + (y - center_y)**2\n",
    "            dist = math.sqrt(square_dist) \n",
    "            if dist > radius:\n",
    "                image[y, x, 0] = mask_shade\n",
    "                image[y, x, 1] = mask_shade\n",
    "                image[y, x, 2] = mask_shade\n",
    "                \n",
    "    return image\n",
    "\n",
    "def mask_circle(image, x, y, radius, mask_shade=0):\n",
    "    l = int(radius)\n",
    "    min_x = max(x-l, 0)\n",
    "    max_x = min(x+l, image.shape[0])\n",
    "    min_y = max(y-l, 0)\n",
    "    max_y = min(y+l, image.shape[1])\n",
    "    \n",
    "    image = image[min_x:max_x, min_y:max_y, :]\n",
    "    image = image.copy()\n",
    "\n",
    "    # NOTE: the old hue mask flipped x and y (likey for performance)\n",
    "    _mask_circle(image, y, x, radius, mask_shade)\n",
    "    return image"
   ]
  },
  {
   "cell_type": "markdown",
   "id": "fantastic-ordinance",
   "metadata": {},
   "source": [
    "##### Test mask_circle"
   ]
  },
  {
   "cell_type": "code",
   "execution_count": null,
   "id": "significant-reader",
   "metadata": {
    "jupyter": {
     "source_hidden": true
    },
    "tags": []
   },
   "outputs": [],
   "source": [
    "# Test mask_circle\n",
    "im = cv2.imread(np.random.choice(dataset_files[np.random.choice(colors, 1)[0]], 1)[0])\n",
    "display(im)\n",
    "\n",
    "x, y, r = 128, 128, 30\n",
    "\n",
    "display(mask_circle(im, x, y, r))\n",
    "cv2.circle(im, (x, y), r, (0, 0, 255), 3)\n",
    "display(im)"
   ]
  },
  {
   "cell_type": "markdown",
   "id": "restricted-exhibition",
   "metadata": {
    "tags": []
   },
   "source": [
    "### Soft Mask (Cython)"
   ]
  },
  {
   "cell_type": "code",
   "execution_count": null,
   "id": "suitable-possibility",
   "metadata": {
    "jupyter": {
     "source_hidden": true
    },
    "tags": []
   },
   "outputs": [],
   "source": [
    "%%cython\n",
    "\n",
    "cimport numpy as np\n",
    "import numpy as np\n",
    "import math\n",
    "import cython\n",
    "# cimport math\n",
    "\n",
    "cdef cmin(double a, double b):\n",
    "    if a < b:\n",
    "        return a\n",
    "    else:\n",
    "        return b\n",
    "\n",
    "@cython.boundscheck(False)\n",
    "@cython.wraparound(False)\n",
    "cdef _soft_mask(unsigned char [:, :, :] image, unsigned char [:, :] mask, double contrast_gain):\n",
    "    cdef int x, y, b, g, r\n",
    "\n",
    "    # grab the image dimensions\n",
    "    height = image.shape[0]\n",
    "    width = image.shape[1]\n",
    "    m_height = mask.shape[0]\n",
    "    m_width = mask.shape[1]\n",
    "\n",
    "    if (height != m_height) or (width != m_width):\n",
    "        return -1\n",
    "\n",
    "    for y in range(0, height):\n",
    "        for x in range(0, width):\n",
    "            b = cmin(<double> image[y, x, 0] * contrast_gain * <double> mask[y, x] / 256, 256)\n",
    "            g = cmin(<double> image[y, x, 1] * contrast_gain * <double> mask[y, x] / 256, 256)\n",
    "            r = cmin(<double> image[y, x, 2] * contrast_gain * <double> mask[y, x] / 256, 256)\n",
    "            image[y, x, 0] = <unsigned char> b\n",
    "            image[y, x, 1] = <unsigned char> g\n",
    "            image[y, x, 2] = <unsigned char> r\n",
    "                \n",
    "    return np.asarray(image)\n",
    "\n",
    "def soft_mask(img, mask, contrast_gain=1.0):\n",
    "    return _soft_mask(img, mask, contrast_gain)"
   ]
  },
  {
   "cell_type": "markdown",
   "id": "signed-plant",
   "metadata": {},
   "source": [
    "### average_color_circle"
   ]
  },
  {
   "cell_type": "code",
   "execution_count": null,
   "id": "imported-coordinate",
   "metadata": {
    "jupyter": {
     "source_hidden": true
    },
    "tags": []
   },
   "outputs": [],
   "source": [
    "def average_color_circle(img, circle, crop_square=False):\n",
    "    \"\"\"\n",
    "    Calculate the average hue inside a circle.\n",
    "\n",
    "    crop_square: Instead of calculating the average hue of a circle, calculate\n",
    "                 the average hue of a sqaure that is bounded by the given circle.\n",
    "                 This is `probably` faster.\n",
    "    \"\"\"\n",
    "    if crop_square:\n",
    "        # Crop a square that stricly encloses the circle (square is larger than\n",
    "        # circle), the smallest such square has a side length that is equal to\n",
    "        # the diameter (2 * radius) of the circle.\n",
    "        x, y, radius = circle\n",
    "        crop = img[y - radius : y + radius, x - radius : x + radius, :]\n",
    "\n",
    "        # Set the pixels outside of the radius of the circle to white (masking\n",
    "        # the pixels outside of the circle), finally calculate the average\n",
    "        # color by subtracting the effect of the masked (white) pixels.\n",
    "        masked_crop = mask_circle(np.copy(crop), int(radius))\n",
    "\n",
    "        # crop_hsv = cv2.cvtColor(masked_crop, cv2.COLOR_BGR2HSV)\n",
    "        # fig = plt.figure()\n",
    "        # fig.add_subplot(121)\n",
    "        # plt.imshow(masked_crop[:, :, ::-1])\n",
    "        # fig.add_subplot(122)\n",
    "        # plt.imshow(crop_hsv[:, :, 0])\n",
    "        # plt.show()\n",
    "\n",
    "        avg_color_crop = np.sqrt(np.square(masked_crop).mean(axis=0).mean(axis=0))\n",
    "\n",
    "        # To normalize for the white we multiply by the fraction of pixels\n",
    "        # inside the circle / total pixels in the image. (pi*r^2 / (2*r)^2)\n",
    "        # ...the r^2 cancels out.\n",
    "        return avg_color_crop * (np.pi / 4), masked_crop\n",
    "\n",
    "    else:\n",
    "        # Crop a square that is stricly enclosed by the bounding circle (circle\n",
    "        # is larger than the square), the largest such square has a diagonal\n",
    "        # that is equal to the diameter of the circle.\n",
    "        x, y, radius = circle\n",
    "        l = int(radius / np.sqrt(2))\n",
    "        crop = img[y - l : y + l, x - l : x + l, :]\n",
    "        # plt.imshow(crop)\n",
    "        # plt.show()\n",
    "\n",
    "        # Take this crop and average out the image\n",
    "        return np.sqrt(np.square(crop).mean(axis=0).mean(axis=0), crop)"
   ]
  },
  {
   "cell_type": "markdown",
   "id": "adaptive-russian",
   "metadata": {},
   "source": [
    "### hsv_to_rgb"
   ]
  },
  {
   "cell_type": "code",
   "execution_count": null,
   "id": "sharing-region",
   "metadata": {
    "jupyter": {
     "source_hidden": true
    },
    "tags": []
   },
   "outputs": [],
   "source": [
    "def hsv_to_rgb(h, s, v):\n",
    "    if s == 0.0:\n",
    "        return (v, v, v)\n",
    "    i = int(h * 6.0)  # XXX assume int() truncates!\n",
    "    f = (h * 6.0) - i\n",
    "    p, q, t = v * (1.0 - s), v * (1.0 - s * f), v * (1.0 - s * (1.0 - f))\n",
    "    i %= 6\n",
    "    if i == 0:\n",
    "        return (v, t, p)\n",
    "    if i == 1:\n",
    "        return (q, v, p)\n",
    "    if i == 2:\n",
    "        return (p, v, t)\n",
    "    if i == 3:\n",
    "        return (p, q, v)\n",
    "    if i == 4:\n",
    "        return (t, p, v)\n",
    "    if i == 5:\n",
    "        return (v, p, q)\n",
    "\n",
    "\n",
    "def hue_to_bgr(hue, s=0.75, v=0.75):\n",
    "    assert hue >= 0 and hue <= 360\n",
    "    rgb = hsv_to_rgb(hue / 360.0, s, v)\n",
    "    rgb = [int(c * 255) for c in rgb]\n",
    "    return rgb[::-1]"
   ]
  },
  {
   "cell_type": "markdown",
   "id": "tropical-corps",
   "metadata": {},
   "source": [
    "# Image processing algorithms"
   ]
  },
  {
   "cell_type": "markdown",
   "id": "accepting-interface",
   "metadata": {},
   "source": [
    "### mask_im"
   ]
  },
  {
   "cell_type": "code",
   "execution_count": null,
   "id": "objective-smooth",
   "metadata": {
    "jupyter": {
     "source_hidden": true
    },
    "tags": []
   },
   "outputs": [],
   "source": [
    "default_kernel = cv2.getStructuringElement(cv2.MORPH_ELLIPSE, (5, 5))\n",
    "\n",
    "\n",
    "def mask_im(\n",
    "    img,\n",
    "    hue,\n",
    "    use_soft_mask,\n",
    "    blur=False,\n",
    "    copy=True,\n",
    "    kernel=default_kernel,\n",
    "    hue_sigma=0.05,\n",
    "    gain=60.0,\n",
    "    mask_gain=1.0,\n",
    "    contrast_gain=1.0,\n",
    "):\n",
    "    if copy:\n",
    "        img = img.copy()\n",
    "\n",
    "    mask = None\n",
    "    if blur:\n",
    "        img = cv2.medianBlur(img, blur)\n",
    "\n",
    "    if hue:\n",
    "        img_hsv = cv2.cvtColor(img, cv2.COLOR_BGR2HSV)\n",
    "        # run through each triplet and perform our masking filter on it.\n",
    "        # hue_mask coverts the hsv image into a grayscale image with a\n",
    "        # bandpass applied centered around hue, with width sigma\n",
    "        # img_hsv is modified.\n",
    "        # hue_mask(img_hsv, hue_center, hue_sigma, gain, mask_gain)\n",
    "        # hue_mask(img_hsv, hue / 2, 0.05, 12.0, 4.0)\n",
    "        hue_mask(img_hsv, hue / 2, hue_sigma, gain, mask_gain)\n",
    "\n",
    "        if use_soft_mask:\n",
    "            # bandpass filter over hue\n",
    "            return soft_mask(img, img_hsv[:, :, 0], contrast_gain=contrast_gain)\n",
    "\n",
    "        else:\n",
    "            # 'hard' bandpass filter over hue\n",
    "            mask = cv2.inRange(img_hsv, np.array((200,) * 3), np.array((255,) * 3))\n",
    "            # (expand the mask a bit)\n",
    "            mask = cv2.morphologyEx(mask, cv2.MORPH_OPEN, kernel)\n",
    "            idx = mask == 0\n",
    "            img[idx] = 0\n",
    "\n",
    "    return img"
   ]
  },
  {
   "cell_type": "markdown",
   "id": "civil-consequence",
   "metadata": {},
   "source": [
    "### draw_circles"
   ]
  },
  {
   "cell_type": "code",
   "execution_count": null,
   "id": "impressive-hollow",
   "metadata": {
    "jupyter": {
     "source_hidden": true
    },
    "tags": []
   },
   "outputs": [],
   "source": [
    "def draw_circles(\n",
    "    img, circles, color=(255, 0, 0), hue=None, thickness=3\n",
    "):\n",
    "    if hue:  # Use hue if it exists\n",
    "        bgr = hue_to_bgr(hue)\n",
    "    else:  # Otherwise use rgb\n",
    "        bgr = color[::-1]  # Assume color is rgb\n",
    "\n",
    "    if len(circles) > 0:\n",
    "        # Multiple circles found\n",
    "        if len(circles) > 1:\n",
    "\n",
    "            thickness_sec = int(np.ceil(thickness / 2))\n",
    "            bgr_sec = tuple([max(c, 175) for c in bgr])\n",
    "\n",
    "            for (x, y, radius) in circles[1:]:\n",
    "                cv2.circle(img, (int(x), int(y)), int(radius), bgr_sec, thickness_sec)\n",
    "\n",
    "        # Draw Primary circle last (overtop all other circles)\n",
    "        (x, y, radius) = circles[0]\n",
    "        cv2.circle(img, (int(x), int(y)), int(radius), bgr, thickness)\n",
    "        cv2.circle(img, (int(x), int(y)), 2, bgr, thickness)\n",
    "\n",
    "    return img"
   ]
  },
  {
   "cell_type": "markdown",
   "id": "hawaiian-answer",
   "metadata": {},
   "source": [
    "### run_detector"
   ]
  },
  {
   "cell_type": "code",
   "execution_count": null,
   "id": "answering-species",
   "metadata": {
    "jupyter": {
     "source_hidden": true
    },
    "tags": []
   },
   "outputs": [],
   "source": [
    "# ====================================================================================================================================\n",
    "def run_detector(\n",
    "    detector_fn,\n",
    "    m,\n",
    "    n,\n",
    "    use_mask=False,\n",
    "    use_soft_mask=False,\n",
    "    display_mask=False,\n",
    "    display_circles=True,\n",
    "    max_circles=10,\n",
    "    blur=False,\n",
    "    hue_sigma=0.05,\n",
    "    gain=60.0,\n",
    "    mask_gain=1.0,\n",
    "    contrast_gain=1.0,\n",
    "    post_processing_fn=None,\n",
    "    display=True,\n",
    "    **kwargs\n",
    "):\n",
    "    \n",
    "    for i, color in enumerate(colors):\n",
    "        filenames = dataset_files[color]\n",
    "        imgs = [cv2.imread(img) for img in np.random.choice(filenames, n)]\n",
    "\n",
    "        for j, im in enumerate(imgs):\n",
    "            # Masking preprocessing\n",
    "            if use_mask:\n",
    "                masked_im = mask_im(\n",
    "                    im,\n",
    "                    hues[color],\n",
    "                    use_soft_mask,\n",
    "                    blur,\n",
    "                    copy=True,\n",
    "                    hue_sigma=hue_sigma,\n",
    "                    gain=gain,\n",
    "                    mask_gain=mask_gain,\n",
    "                    contrast_gain=contrast_gain,\n",
    "                )\n",
    "            else:\n",
    "                masked_im = im\n",
    "\n",
    "            # Run the detection algorithm\n",
    "            circles = detector_fn(masked_im, **kwargs)\n",
    "            if len(circles) > max_circles:\n",
    "                circles = circles[:max_circles]\n",
    "\n",
    "            # Post processing\n",
    "            if post_processing_fn:\n",
    "                circles = post_processing_fn(im, circles, hues[color])\n",
    "\n",
    "            display_im = masked_im if display_mask else im\n",
    "            if display and display_circles:\n",
    "                display_im = draw_circles(display_im, circles)\n",
    "            \n",
    "            if display:\n",
    "                fig.add_subplot(n, m, i + j * m + 1)\n",
    "                ax = plt.imshow(display_im[:, :, ::-1])\n",
    "    if display:\n",
    "        plt.show()"
   ]
  },
  {
   "cell_type": "markdown",
   "id": "decreased-movie",
   "metadata": {},
   "source": [
    "### process_image_hough"
   ]
  },
  {
   "cell_type": "code",
   "execution_count": null,
   "id": "double-sustainability",
   "metadata": {
    "jupyter": {
     "source_hidden": true
    },
    "tags": []
   },
   "outputs": [],
   "source": [
    "\"\"\" # Run the image processing algorithm with given hyperparams.\n",
    "    #     - image:      8-bit, single-channel, grayscale input image.\n",
    "    #     - method:     Detection method, see HoughModes. The available methods are\n",
    "    #                   HOUGH_GRADIENT and HOUGH_GRADIENT_ALT.\n",
    "    #     - min_dist:   Minimum distance between the centers of the detected circles.\n",
    "    #                   If the parameter is too small, multiple neighbor circles may\n",
    "    #                   be falsely detected in addition to a true one. If it is too\n",
    "    #                   large, some circles may be missed.\n",
    "    #     - param1:     First method-specific parameter. In case of HOUGH_GRADIENT and\n",
    "    #                   HOUGH_GRADIENT_ALT, it is the higher threshold of the two\n",
    "    #                   passed to the Canny edge detector (the lower one is twice\n",
    "    #                   smaller). Note that HOUGH_GRADIENT_ALT uses Scharr algorithm\n",
    "    #                   to compute image derivatives, so the threshold value shough\n",
    "    #                   normally be higher, such as 300 or normally exposed and\n",
    "    #                   contrasty images.\n",
    "    #     - param2:     Second method-specific parameter. In case of HOUGH_GRADIENT,\n",
    "    #                   it is the accumulator threshold for the circle centers at the\n",
    "    #                   detection stage. The smaller it is, the more false circles may\n",
    "    #                   be detected. Circles, corresponding to the larger accumulator\n",
    "    #                   values, will be returned first. In the case of\n",
    "    #                   HOUGH_GRADIENT_ALT algorithm, this is the circle \"perfectness\"\n",
    "    #                   measure. The closer it to 1, the better shaped circles\n",
    "    #                   algorithm selects. In most cases 0.9 should be fine. If you\n",
    "    #                   want get better detection of small circles, you may decrease\n",
    "    #                   it to 0.85, 0.8 or even less. But then also try to limit the\n",
    "    #                   search range [minRadius, maxRadius] to avoid many false\n",
    "    #                   circles.\n",
    "    #     - min_radius: Minimum circle radius.\n",
    "    #     - max_radius: Maximum circle radius. If <= 0, uses the maximum image\n",
    "    #                   dimension. If < 0, HOUGH_GRADIENT returns centers without\n",
    "    #                   finding the radius. HOUGH_GRADIENT_ALT always computes circle\n",
    "    #                   radiuses.\n",
    "    #     - dp:         Inverse ratio of the accumulator resolution to the image\n",
    "    #                   resolution. For example, if dp=1, the accumulator has the same\n",
    "    #                   resolution as the input image. If dp=2, the accumulator has\n",
    "    #                   half as big width and height. For HOUGH_GRADIENT_ALT the\n",
    "    #                   recommended value is dp=1.5, unless some small very circles\n",
    "    #                   need to be detected.\n",
    "    #     - blur:       Size of median blur before processing image\n",
    "    #     - hue:        If hue is set (value between 0-360), then mask all pixels that\n",
    "    #                   outside that hue to black(or should we do white?)\n",
    "\n",
    "\n",
    "    # Returns:\n",
    "    #  circles: Output vector of found circles. (x,y,radius)\n",
    "\n",
    "    # \"\"\"\n",
    "# ====================================================================================================================================\n",
    "def process_image_hough(\n",
    "    img,\n",
    "    min_dist,\n",
    "    param1,\n",
    "    param2,\n",
    "    min_radius,\n",
    "    max_radius,\n",
    "    dp=1,\n",
    "):\n",
    "    gray_img = cv2.cvtColor(img[:, :, ::-1], cv2.COLOR_BGR2GRAY)\n",
    "\n",
    "    circles = cv2.HoughCircles(\n",
    "        gray_img,\n",
    "        cv2.HOUGH_GRADIENT,\n",
    "        dp,\n",
    "        minDist=min_dist,\n",
    "        param1=param1,\n",
    "        param2=param2,\n",
    "        minRadius=min_radius,\n",
    "        maxRadius=max_radius,\n",
    "    )\n",
    "    if circles is not None:\n",
    "        circles = np.uint16(np.around(circles))\n",
    "        circles = circles[0, :]\n",
    "    else:\n",
    "        circles = []\n",
    "\n",
    "    return circles"
   ]
  },
  {
   "cell_type": "markdown",
   "id": "missing-bracelet",
   "metadata": {},
   "source": [
    "### process_image_blob"
   ]
  },
  {
   "cell_type": "code",
   "execution_count": null,
   "id": "tutorial-macedonia",
   "metadata": {
    "jupyter": {
     "source_hidden": true
    },
    "tags": []
   },
   "outputs": [],
   "source": [
    "# =====================================================================================================================================\n",
    "def process_image_blob(img, detector):\n",
    "    img_gray = cv2.cvtColor(img[:, :, ::-1], cv2.COLOR_BGR2GRAY)\n",
    "    keypoints = detector.detect(img_gray)\n",
    "    circles = [(*k.pt, k.size / 2) for k in keypoints]\n",
    "    return circles"
   ]
  },
  {
   "cell_type": "markdown",
   "id": "temporal-underground",
   "metadata": {},
   "source": [
    "### process_image_contour"
   ]
  },
  {
   "cell_type": "code",
   "execution_count": null,
   "id": "junior-taxation",
   "metadata": {
    "jupyter": {
     "source_hidden": true
    },
    "tags": []
   },
   "outputs": [],
   "source": [
    "# ======================================================================================================================================\n",
    "def process_image_contour(\n",
    "    img,\n",
    "    frame_size=256,\n",
    "    ball_min=0.06,\n",
    "    ball_max=0.22,\n",
    "    draw_contours=False,\n",
    "):\n",
    "    gray_img = cv2.cvtColor(img[:, :, ::-1], cv2.COLOR_BGR2GRAY)\n",
    "    contours = cv2.findContours(gray_img, cv2.RETR_EXTERNAL, cv2.CHAIN_APPROX_SIMPLE)[\n",
    "        -2\n",
    "    ]\n",
    "\n",
    "    if len(contours) > 0:\n",
    "        if draw_contours:\n",
    "            cv2.drawContours(img, contours, -1, (0, 255, 0), 3)\n",
    "\n",
    "        # Primary circle\n",
    "        contour_peak = max(contours, key=cv2.contourArea)\n",
    "        ((x, y), r) = cv2.minEnclosingCircle(contour_peak)\n",
    "        primary_circle = (int(x), int(y), int(r))\n",
    "\n",
    "        # Convert the remaining circles to contours\n",
    "        circles = []\n",
    "        for contour in contours:\n",
    "            area = cv2.contourArea(contour)\n",
    "            ((x, y), radius) = cv2.minEnclosingCircle(contour_peak)\n",
    "            if ball_min < (radius / frame_size) < ball_max:\n",
    "                circles.append((x, y, r, area))\n",
    "\n",
    "        circles = sorted(circles, key=lambda x: x[3])  # Sort circles by area\n",
    "        circles = [(x, y, r) for (x, y, r, a) in circles]  # Strip out contour area\n",
    "\n",
    "        return circles\n",
    "\n",
    "    return []"
   ]
  },
  {
   "cell_type": "markdown",
   "id": "lesser-baltimore",
   "metadata": {},
   "source": [
    "### Post process circles by hue (pp_display_hue_plots and pp_hue_mask_value_filter)"
   ]
  },
  {
   "cell_type": "code",
   "execution_count": null,
   "id": "ongoing-aberdeen",
   "metadata": {
    "tags": []
   },
   "outputs": [],
   "source": [
    "def pp_display_hue_plots(im, circles, hue=None, **kwargs):\n",
    "    \"\"\"Only plots the found circles and their histograms, does not filter\"\"\"\n",
    "    # Number of images (1 unmasked full im + 1 masked full im + 2*circles)\n",
    "    # NOTE: You need to change this number (n) manually for the number of columns....\n",
    "    n = (4 * len(circles) + 2)\n",
    "    # Create figure (1 row by however many columns)\n",
    "    fig = plt.figure(figsize=(n * 2, 2))\n",
    "    i = 1  # Counter for image column\n",
    "\n",
    "    # # Add the original image\n",
    "    # fig.add_subplot(1, n, i)\n",
    "    # display(im, show=False)\n",
    "    # i += 1\n",
    "\n",
    "    # # Add the masked image\n",
    "    # display_im = im.copy()\n",
    "    # display_im = draw_circles(display_im, circles)\n",
    "    # fig.add_subplot(1, n, i)\n",
    "    # display(display_im, show=False)\n",
    "    # i += 1\n",
    "    \n",
    "    for (x, y, r) in circles:\n",
    "        # Display original image with the circle overlayed\n",
    "        im2 = im.copy()\n",
    "        im2 = cv2.circle(im2, (x, y), r, (0,0,255), 3)\n",
    "        fig.add_subplot(1, n, i)\n",
    "        display(im2, show=False)\n",
    "        i += 1\n",
    "        \n",
    "        # Display cropped circle\n",
    "        masked_circle = im.copy()\n",
    "        masked_circle = mask_circle(masked_circle, y, x, r)\n",
    "        # fig.add_subplot(1, n, i)\n",
    "        # display(masked_circle, show=False)\n",
    "        # i += 1\n",
    "        \n",
    "        # # Display it's hue histogram\n",
    "        # fig.add_subplot(1, n, i)\n",
    "        # hsv = cv2.cvtColor(masked_circle, cv2.COLOR_BGR2HSV)\n",
    "        # plt.hist(hsv[:,:,0], bins=5)\n",
    "        # i += 1\n",
    "\n",
    "        # # Display it's saturation histogram\n",
    "        # fig.add_subplot(1, n, i)\n",
    "        # plt.hist(hsv[:,:,1], bins=5)\n",
    "        # i += 1\n",
    "\n",
    "        # # Display it's value histogram\n",
    "        # fig.add_subplot(1, n, i)\n",
    "        # plt.hist(hsv[:,:,2], bins=5)\n",
    "        # i += 1\n",
    "\n",
    "        # Display cropped with hue bandpass filter\n",
    "        print(hue)\n",
    "        hue_bp_circle = mask_im(\n",
    "            masked_circle,\n",
    "            hue,\n",
    "            use_soft_mask=True,\n",
    "            blur=False,\n",
    "            copy=True,\n",
    "            hue_sigma=0.05,\n",
    "            gain=60.0,\n",
    "            mask_gain=4.0,\n",
    "        )\n",
    "        hsv = cv2.cvtColor(hue_bp_circle, cv2.COLOR_BGR2HSV)\n",
    "        # hsv = cv2.cvtColor(hue_bp_circle, cv2.COLOR_BGR2YCrCb)\n",
    "        # hsv = cv2.cvtColor(hue_bp_circle, cv2.COLOR_BGR2HLS)\n",
    "        # hsv = cv2.cvtColor(hue_bp_circle, cv2.COLOR_BGR2Lab)\n",
    "        # hsv = cv2.cvtColor(hue_bp_circle, cv2.COLOR_BGR2Luv)\n",
    "\n",
    "        fig.add_subplot(1, n, i)\n",
    "        display(hue_bp_circle, show=False, text=str(np.average(hsv[:,:,0])))\n",
    "        i += 1\n",
    "\n",
    "        # # Display it's hue\n",
    "        # fig.add_subplot(1, n, i)\n",
    "        # display(hsv[:, :, 0], show=False)\n",
    "        # i += 1\n",
    "\n",
    "        # # Display it's saturation\n",
    "        # fig.add_subplot(1, n, i)\n",
    "        # display(hsv[:, :, 1], show=False)\n",
    "        # i += 1\n",
    "\n",
    "        # # Display it's value\n",
    "        # fig.add_subplot(1, n, i)\n",
    "        # display(hsv[:, :, 2], show=False)\n",
    "        # i += 1\n",
    "\n",
    "    plt.show()\n",
    "    return circles\n",
    "\n",
    "\n",
    "def pp_hue_mask_value_filter(im, circles, hue=None, **kwargs):\n",
    "    \"\"\"Filters the found circles by the pixel average of the value (v in hsv) after using a soft mask.\"\"\"\n",
    "    filtered_circles = []\n",
    "    for (x, y, r) in circles:\n",
    "        masked_circle = mask_circle(im, y, x, r)\n",
    "        hue_bp_circle = mask_im(\n",
    "            masked_circle,\n",
    "            hue,\n",
    "            use_soft_mask=True,\n",
    "            blur=False,\n",
    "            copy=True,\n",
    "            hue_sigma=0.05,\n",
    "            gain=60.0,\n",
    "            mask_gain=4.0,\n",
    "        )\n",
    "        hsv = cv2.cvtColor(hue_bp_circle, cv2.COLOR_BGR2HSV)\n",
    "        \n",
    "        if np.average(hsv[:,:,2]) > 120:\n",
    "            filtered_circles.append((x, y, r))\n",
    "\n",
    "    return filtered_circles"
   ]
  },
  {
   "cell_type": "markdown",
   "id": "economic-mainstream",
   "metadata": {},
   "source": [
    "# Run expermiments"
   ]
  },
  {
   "cell_type": "markdown",
   "id": "greater-growing",
   "metadata": {},
   "source": [
    "## Run hough detector post processed"
   ]
  },
  {
   "cell_type": "code",
   "execution_count": null,
   "id": "relative-macro",
   "metadata": {
    "tags": []
   },
   "outputs": [],
   "source": [
    "m = len(colors)\n",
    "n = 1\n",
    "############################################\n",
    "frame_size = 256\n",
    "hough_kwargs = {\n",
    "    \"dp\": 1,\n",
    "    \"min_dist\": int(0.3 * frame_size),\n",
    "    \"param1\": 150,\n",
    "    \"param2\": 1,\n",
    "    \"min_radius\": int(0.07 * frame_size),\n",
    "    \"max_radius\": int(0.15 * frame_size),\n",
    "}\n",
    "\n",
    "use_mask = True\n",
    "use_soft_mask = True\n",
    "display_mask = True\n",
    "display_circles = True\n",
    "max_circles = 2  # Maximum number of circles to draw\n",
    "blur = 5\n",
    "\n",
    "run_detector(\n",
    "    process_image_hough,\n",
    "    m,\n",
    "    n,\n",
    "    use_mask,\n",
    "    use_soft_mask,\n",
    "    display_mask,\n",
    "    display_circles,\n",
    "    max_circles,\n",
    "    blur,\n",
    "    hue_sigma=0.05,\n",
    "    gain=80.0,\n",
    "    mask_gain=4.0,\n",
    "    post_processing_fn=pp_display_hue_plots,\n",
    "    display=False,\n",
    "    **hough_kwargs,\n",
    ")"
   ]
  },
  {
   "cell_type": "markdown",
   "id": "adopted-ecuador",
   "metadata": {},
   "source": [
    "## Set Params"
   ]
  },
  {
   "cell_type": "code",
   "execution_count": null,
   "id": "running-newton",
   "metadata": {
    "tags": []
   },
   "outputs": [],
   "source": [
    "m = len(colors)\n",
    "n = 20\n",
    "use_mask = True\n",
    "use_soft_mask = True\n",
    "display_mask = False\n",
    "display_circles = True\n",
    "max_circles = 3  # Maximum number of circles to draw\n",
    "blur = False"
   ]
  },
  {
   "cell_type": "markdown",
   "id": "ultimate-flour",
   "metadata": {},
   "source": [
    "## Hough detector with post detect filtering"
   ]
  },
  {
   "cell_type": "code",
   "execution_count": null,
   "id": "synthetic-windsor",
   "metadata": {},
   "outputs": [],
   "source": [
    "fig = plt.figure(figsize=(m * 3, n * 3))\n",
    "frame_size = 256\n",
    "\n",
    "\"\"\" # Run the image processing algorithm with given hyperparams.\n",
    "    #     - param1:     First method-specific parameter. In case of HOUGH_GRADIENT and\n",
    "    #                   It is the higher threshold of the two\n",
    "    #                   passed to the Canny edge detector (the lower one is twice\n",
    "    #                   smaller). \n",
    "    #     - param2:     Second method-specific parameter. In case of HOUGH_GRADIENT,\n",
    "    #                   it is the accumulator threshold for the circle centers at the\n",
    "    #                   detection stage. The smaller it is, the more false circles may\n",
    "    #                   be detected. Circles, corresponding to the larger accumulator\n",
    "    #                   values, will be returned first.\n",
    "\n",
    "    # \"\"\"\n",
    "\n",
    "hough_kwargs = {\n",
    "    \"dp\": 1,\n",
    "    \"min_dist\": int(0.3 * frame_size),\n",
    "    \"param1\": 150,\n",
    "    \"param2\": 1,\n",
    "    \"min_radius\": int(0.07 * frame_size),\n",
    "    \"max_radius\": int(0.15 * frame_size),\n",
    "}\n",
    "\n",
    "run_detector(\n",
    "    process_image_hough,\n",
    "    m,\n",
    "    n,\n",
    "    use_mask,\n",
    "    use_soft_mask,\n",
    "    display_mask,\n",
    "    display_circles,\n",
    "    max_circles,\n",
    "    blur,\n",
    "    hue_sigma=0.05,\n",
    "    gain=60.0,\n",
    "    mask_gain=4.0,\n",
    "    post_processing_fn=pp_hue_mask_value_filter,\n",
    "    display=True,\n",
    "    **hough_kwargs\n",
    ")"
   ]
  },
  {
   "cell_type": "markdown",
   "id": "conceptual-protocol",
   "metadata": {},
   "source": [
    "## Run Hough detector"
   ]
  },
  {
   "cell_type": "code",
   "execution_count": null,
   "id": "pediatric-label",
   "metadata": {
    "jupyter": {
     "source_hidden": true
    },
    "tags": []
   },
   "outputs": [],
   "source": [
    "fig = plt.figure(figsize=(m * 3, n * 3))\n",
    "frame_size = 256\n",
    "\n",
    "\"\"\" # Run the image processing algorithm with given hyperparams.\n",
    "    #     - param1:     First method-specific parameter. In case of HOUGH_GRADIENT and\n",
    "    #                   It is the higher threshold of the two\n",
    "    #                   passed to the Canny edge detector (the lower one is twice\n",
    "    #                   smaller). \n",
    "    #     - param2:     Second method-specific parameter. In case of HOUGH_GRADIENT,\n",
    "    #                   it is the accumulator threshold for the circle centers at the\n",
    "    #                   detection stage. The smaller it is, the more false circles may\n",
    "    #                   be detected. Circles, corresponding to the larger accumulator\n",
    "    #                   values, will be returned first.\n",
    "\n",
    "    # \"\"\"\n",
    "\n",
    "hough_kwargs = {\n",
    "    \"dp\": 1,\n",
    "    \"min_dist\": int(0.3 * frame_size),\n",
    "    \"param1\": 150,\n",
    "    \"param2\": 1,\n",
    "    \"min_radius\": int(0.07 * frame_size),\n",
    "    \"max_radius\": int(0.15 * frame_size),\n",
    "}\n",
    "\n",
    "run_detector(\n",
    "    process_image_hough,\n",
    "    m,\n",
    "    n,\n",
    "    use_mask,\n",
    "    use_soft_mask,\n",
    "    display_mask,\n",
    "    display_circles,\n",
    "    max_circles,\n",
    "    blur,\n",
    "    hue_sigma=0.05,\n",
    "    gain=80.0,\n",
    "    mask_gain=1.0,\n",
    "    **hough_kwargs\n",
    ")"
   ]
  },
  {
   "cell_type": "markdown",
   "id": "capital-bradford",
   "metadata": {
    "tags": []
   },
   "source": [
    "## Run Contour (Original) detector"
   ]
  },
  {
   "cell_type": "code",
   "execution_count": null,
   "id": "intellectual-bracelet",
   "metadata": {
    "jupyter": {
     "source_hidden": true
    },
    "tags": []
   },
   "outputs": [],
   "source": [
    "fig = plt.figure(figsize=(m * 3, n * 3))\n",
    "frame_size = 256\n",
    "\n",
    "dilation_kwargs = {\n",
    "    \"frame_size\": 256,\n",
    "    \"ball_min\": 0.06,\n",
    "    \"ball_max\": 0.22,\n",
    "    \"draw_contours\": True,\n",
    "}\n",
    "\n",
    "\n",
    "use_mask = True\n",
    "use_soft_mask = False\n",
    "display_circles = True\n",
    "\n",
    "run_detector(\n",
    "    process_image_contour,\n",
    "    m,\n",
    "    n,\n",
    "    use_mask,\n",
    "    use_soft_mask=use_soft_mask,\n",
    "    display_mask=display_mask,\n",
    "    display_circles=display_circles,\n",
    "    max_circles=max_circles,\n",
    "    blur=5,\n",
    "    hue_sigma=0.02,\n",
    "    gain=60.0,\n",
    "    mask_gain=4.0,\n",
    "    **dilation_kwargs\n",
    ")\n",
    "\n",
    "use_mask = True\n",
    "use_soft_mask = True"
   ]
  },
  {
   "cell_type": "markdown",
   "id": "complete-booking",
   "metadata": {
    "tags": []
   },
   "source": [
    "## Run Blob detector"
   ]
  },
  {
   "cell_type": "code",
   "execution_count": null,
   "id": "lovely-green",
   "metadata": {
    "jupyter": {
     "source_hidden": true
    },
    "tags": []
   },
   "outputs": [],
   "source": [
    "# fig = plt.figure(figsize=(m * 3, n * 3))\n",
    "\n",
    "# params = cv2.SimpleBlobDetector_Params()  # Setup SimpleBlobDetector parameters.\n",
    "# params.minThreshold = 10  # Change thresholds\n",
    "# params.maxThreshold = 400\n",
    "# params.filterByArea = True  # Filter by Area.\n",
    "# params.minArea = 500\n",
    "# params.filterByCircularity = True  # Filter by Circularity\n",
    "# params.minCircularity = 0.1\n",
    "# params.filterByConvexity = False  # Filter by Convexity\n",
    "# params.minConvexity = 0.87\n",
    "# params.filterByInertia = False  # Filter by Inertia\n",
    "# params.minInertiaRatio = 0.01\n",
    "# detector = cv2.SimpleBlobDetector_create(params)\n",
    "\n",
    "# blob_kwargs = {\n",
    "#     \"detector\": detector,\n",
    "# }\n",
    "\n",
    "# use_soft_mask = False\n",
    "\n",
    "# run_detector(\n",
    "#     process_image_blob,\n",
    "#     m,\n",
    "#     n,\n",
    "#     use_mask,\n",
    "#     display_mask,\n",
    "#     display_circles,\n",
    "#     max_circles,\n",
    "#     blur,\n",
    "#     **blob_kwargs\n",
    "# )"
   ]
  },
  {
   "cell_type": "code",
   "execution_count": null,
   "id": "brilliant-recording",
   "metadata": {},
   "outputs": [],
   "source": []
  }
 ],
 "metadata": {
  "@webio": {
   "lastCommId": null,
   "lastKernelId": null
  },
  "kernelspec": {
   "display_name": "pt",
   "language": "python",
   "name": "pt"
  },
  "language_info": {
   "codemirror_mode": {
    "name": "ipython",
    "version": 3
   },
   "file_extension": ".py",
   "mimetype": "text/x-python",
   "name": "python",
   "nbconvert_exporter": "python",
   "pygments_lexer": "ipython3",
   "version": "3.8.3"
  }
 },
 "nbformat": 4,
 "nbformat_minor": 5
}
